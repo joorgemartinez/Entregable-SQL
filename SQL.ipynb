{
 "cells": [
  {
   "cell_type": "code",
   "execution_count": null,
   "metadata": {
    "vscode": {
     "languageId": "sql"
    }
   },
   "outputs": [],
   "source": [
    "#EJ1\n",
    "SELECT first_name, last_name\n",
    "FROM actor"
   ]
  },
  {
   "cell_type": "code",
   "execution_count": null,
   "metadata": {
    "vscode": {
     "languageId": "sql"
    }
   },
   "outputs": [],
   "source": [
    "#EJ2\n",
    "SELECT COUNT(*) FROM (\n",
    "SELECT first_name, last_name, title\n",
    "FROM actor, film_actor, film\n",
    "WHERE actor.actor_id = film_actor.actor_id\n",
    "AND film_actor.film_id = film.film_id)\n",
    "AS EJ2;\n",
    "\n"
   ]
  },
  {
   "cell_type": "code",
   "execution_count": null,
   "metadata": {
    "vscode": {
     "languageId": "sql"
    }
   },
   "outputs": [],
   "source": [
    "#EJ3 \n",
    "\n",
    "SELECT A.first_name, A.last_name, COUNT (F.title)\n",
    "FROM actor A, film_actor FA, film F\n",
    "WHERE A.actor_id = FA.actor_id\n",
    "AND F.film_id = FA.film_id\n",
    "GROUP BY A.first_name, A.last_name\n",
    "ORDER BY COUNT (F.title) DESC\n",
    "\n",
    "\n"
   ]
  },
  {
   "cell_type": "code",
   "execution_count": null,
   "metadata": {
    "vscode": {
     "languageId": "sql"
    }
   },
   "outputs": [],
   "source": [
    "#EJ4\n",
    "\n",
    "SELECT F.title, COUNT (R.rental_id)\n",
    "FROM film F, inventory I, rental R\n",
    "WHERE F.film_id = I.film_id\n",
    "AND I.inventory_id = R.inventory_id\n",
    "GROUP BY F.Title\n",
    "ORDER BY COUNT (R.rental_id) DESC"
   ]
  },
  {
   "cell_type": "code",
   "execution_count": null,
   "metadata": {
    "vscode": {
     "languageId": "sql"
    }
   },
   "outputs": [],
   "source": [
    "#EJ5\n",
    "\n",
    "SELECT F.title, SUM (P.amount)\n",
    "FROM film F, inventory I, rental R, payment P\n",
    "WHERE F.film_id = I.film_id\n",
    "AND I.inventory_id = R.inventory_id\n",
    "AND R.rental_id = P.rental_id\n",
    "GROUP BY F.Title\n",
    "ORDER BY SUM (P.amount) DESC\n"
   ]
  },
  {
   "cell_type": "code",
   "execution_count": null,
   "metadata": {
    "vscode": {
     "languageId": "sql"
    }
   },
   "outputs": [],
   "source": [
    "#EJ6\n",
    "\n",
    "SELECT C.first_name, C.last_name, SUM (P.amount)\n",
    "FROM payment P, customer C\n",
    "WHERE P.customer_id = C.customer_id\n",
    "GROUP BY C.first_name, C.last_name\n",
    "ORDER BY SUM (P.amount) DESC\n",
    "LIMIT 1\n"
   ]
  },
  {
   "cell_type": "code",
   "execution_count": null,
   "metadata": {
    "vscode": {
     "languageId": "sql"
    }
   },
   "outputs": [],
   "source": [
    "#EJ7\n",
    "\n",
    "SELECT C.first_name, C.last_name, COUNT (R.rental_id)\n",
    "FROM customer C, rental R\n",
    "WHERE R.customer_id = C.customer_id\n",
    "GROUP BY C.first_name, C.last_name\n",
    "ORDER BY COUNT (R.rental_id) DESC\n",
    "LIMIT 1\n"
   ]
  }
 ],
 "metadata": {
  "language_info": {
   "name": "python"
  },
  "orig_nbformat": 4
 },
 "nbformat": 4,
 "nbformat_minor": 2
}
